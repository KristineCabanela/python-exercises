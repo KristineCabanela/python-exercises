{
 "cells": [
  {
   "cell_type": "markdown",
   "id": "5b0c6307",
   "metadata": {},
   "source": [
    "# Function Exercises"
   ]
  },
  {
   "cell_type": "code",
   "execution_count": null,
   "id": "c6481169",
   "metadata": {},
   "outputs": [],
   "source": [
    "# 1. Define a function named is_two. \n",
    "# It should accept one input and return True if the passed input is either the number or the string 2, False otherwise.\n",
    "\n",
    "x = '2'\n",
    "\n",
    "x in [2,'2']\n",
    "\n",
    "def is_two(x):\n",
    "    return x in [2,'2']"
   ]
  },
  {
   "cell_type": "code",
   "execution_count": null,
   "id": "09e68f93",
   "metadata": {},
   "outputs": [],
   "source": [
    "# 2. Define a function named is_vowel. It should return True if the passed string is a vowel, False otherwise.\n",
    "\n",
    "def is_vowel(char):\n",
    "    return char.lower() in 'aeiou'"
   ]
  },
  {
   "cell_type": "code",
   "execution_count": null,
   "id": "5e317057",
   "metadata": {},
   "outputs": [],
   "source": [
    "is_vowel('c')\n"
   ]
  },
  {
   "cell_type": "code",
   "execution_count": null,
   "id": "950fa272",
   "metadata": {},
   "outputs": [],
   "source": [
    "# 3. Define a function named is_consonant. It should return True if the passed string is a consonant, False otherwise. Use your is_vowel function to accomplish this.\n",
    "\n",
    "def is_consonant(notvowel):\n",
    "    return not is_vowel/(notvowel)"
   ]
  },
  {
   "cell_type": "code",
   "execution_count": null,
   "id": "e526852c",
   "metadata": {},
   "outputs": [],
   "source": [
    "is_consonant('b')"
   ]
  },
  {
   "cell_type": "code",
   "execution_count": null,
   "id": "deeac5b0",
   "metadata": {},
   "outputs": [],
   "source": [
    "# 4. Define a function that accepts a string that is a word. The function should capitalize the first letter of the word if the word starts with a consonant.\n",
    "\n",
    "def capitalize_consonant(string):\n",
    "    return string[0].upper() if is_consonant else string"
   ]
  },
  {
   "cell_type": "code",
   "execution_count": null,
   "id": "2f75934b",
   "metadata": {},
   "outputs": [],
   "source": [
    "# 5. Define a function named calculate_tip. It should accept a tip percentage (a number between 0 and 1) and the bill total, and return the amount to tip.\n",
    "\n",
    "def calculate_tip(tip_percent, total_bill):\n",
    "    return total_bill * (tip_percentage/100)"
   ]
  },
  {
   "cell_type": "code",
   "execution_count": null,
   "id": "80e0d1e6",
   "metadata": {},
   "outputs": [],
   "source": [
    "calculate_tip(10,100)"
   ]
  },
  {
   "cell_type": "code",
   "execution_count": null,
   "id": "3bb9fa1f",
   "metadata": {},
   "outputs": [],
   "source": [
    "# 6. Define a function named apply_discount. It should accept a original price, and a discount percentage, and return the price after the discount is applied.\n",
    "\n",
    "def apply_discount(discount_percentage, original_price):\n",
    "    return original_price - (original_price * (discount_percentage/100))"
   ]
  },
  {
   "cell_type": "code",
   "execution_count": null,
   "id": "484015f2",
   "metadata": {},
   "outputs": [],
   "source": [
    "apply_discount(10,100)"
   ]
  },
  {
   "cell_type": "code",
   "execution_count": null,
   "id": "3fe9d082",
   "metadata": {},
   "outputs": [],
   "source": [
    "# 7. Define a function named handle_commas. It should accept a string that is a number that contains commas in it as input, and return a number as output.\n",
    "\n",
    "def handle_commas(strng):\n",
    "    return float(strng.replace(\",\", \"\"))"
   ]
  },
  {
   "cell_type": "code",
   "execution_count": null,
   "id": "3065e2ee",
   "metadata": {},
   "outputs": [],
   "source": [
    "# 8. Define a function named get_letter_grade. It should accept a number and return the letter grade associated with that number (A-F).\n",
    "\n",
    "def get_letter_grade(grade):\n",
    "    if grade >= 90:\n",
    "        return \"A\"\n",
    "    elif grade >= 80:\n",
    "        return \"B\"\n",
    "    elif grade >= 70:\n",
    "        return \"C\"\n",
    "    elif grade >= 65:\n",
    "        return \"D\"\n",
    "    else:\n",
    "        return \"F\""
   ]
  },
  {
   "cell_type": "code",
   "execution_count": null,
   "id": "9177121c",
   "metadata": {},
   "outputs": [],
   "source": [
    "# 9. Define a function named remove_vowels that accepts a string and returns a string with all the vowels removed.\n",
    "\n",
    "def remove_vowels(string):\n",
    "        for i in \"aeiouAEIOU\":\n",
    "            string = string.replace(i,\"\")\n",
    "        return string"
   ]
  },
  {
   "cell_type": "code",
   "execution_count": null,
   "id": "baef4c6c",
   "metadata": {},
   "outputs": [],
   "source": [
    "# 10. Define a function named normalize_name. It should accept a string and return a valid python identifier, that is:\n",
    "\n",
    "def normalize_name(name):\n",
    "    return word.strip(\"0123456789!@#$%^&*_() +=\\/?<>,.`~;:\").lower().replace(\" \",\"_\")"
   ]
  },
  {
   "cell_type": "code",
   "execution_count": null,
   "id": "9bf37f97",
   "metadata": {},
   "outputs": [],
   "source": [
    "# 11. Write a function named cumulative_sum that accepts a list of numbers and returns a list that is the cumulative sum of the numbers in the list.\n",
    "\n",
    "\n",
    "def cumulative_sum(lists):\n",
    "    cu_list = []\n",
    "    length = len(lists)\n",
    "    cu_list = [sum(lists[0:x:1]) for x in range(0, length+1)]\n",
    "    return cu_list[1:]"
   ]
  }
 ],
 "metadata": {
  "kernelspec": {
   "display_name": "Python 3",
   "language": "python",
   "name": "python3"
  },
  "language_info": {
   "codemirror_mode": {
    "name": "ipython",
    "version": 3
   },
   "file_extension": ".py",
   "mimetype": "text/x-python",
   "name": "python",
   "nbconvert_exporter": "python",
   "pygments_lexer": "ipython3",
   "version": "3.8.8"
  }
 },
 "nbformat": 4,
 "nbformat_minor": 5
}
